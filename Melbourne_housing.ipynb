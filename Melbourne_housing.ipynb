{
 "cells": [
  {
   "cell_type": "code",
   "execution_count": 3,
   "metadata": {
    "collapsed": true
   },
   "outputs": [],
   "source": [
    "library(ggplot2)"
   ]
  },
  {
   "cell_type": "code",
   "execution_count": 1,
   "metadata": {
    "collapsed": true
   },
   "outputs": [],
   "source": [
    "df = read.csv(\"Melbourne_housing_FULL-26-09-2017.csv\")"
   ]
  },
  {
   "cell_type": "code",
   "execution_count": 5,
   "metadata": {},
   "outputs": [
    {
     "data": {
      "text/html": [
       "<ol class=list-inline>\n",
       "\t<li>23547</li>\n",
       "\t<li>21</li>\n",
       "</ol>\n"
      ],
      "text/latex": [
       "\\begin{enumerate*}\n",
       "\\item 23547\n",
       "\\item 21\n",
       "\\end{enumerate*}\n"
      ],
      "text/markdown": [
       "1. 23547\n",
       "2. 21\n",
       "\n",
       "\n"
      ],
      "text/plain": [
       "[1] 23547    21"
      ]
     },
     "metadata": {},
     "output_type": "display_data"
    }
   ],
   "source": [
    "dim(df)"
   ]
  },
  {
   "cell_type": "code",
   "execution_count": 2,
   "metadata": {},
   "outputs": [
    {
     "name": "stdout",
     "output_type": "stream",
     "text": [
      "'data.frame':\t23547 obs. of  21 variables:\n",
      " $ Suburb       : Factor w/ 336 levels \"Abbotsford\",\"Aberfeldie\",..: 1 1 1 1 1 1 1 1 1 1 ...\n",
      " $ Address      : Factor w/ 23108 levels \"1 Abercrombie St\",..: 20002 22084 10427 6622 17071 15745 18380 5650 18185 23076 ...\n",
      " $ Rooms        : int  2 2 2 3 3 3 4 4 2 2 ...\n",
      " $ Type         : Factor w/ 3 levels \"h\",\"t\",\"u\": 1 1 1 3 1 1 1 1 1 1 ...\n",
      " $ Price        : int  NA 1480000 1035000 NA 1465000 850000 1600000 NA NA NA ...\n",
      " $ Method       : Factor w/ 9 levels \"PI\",\"PN\",\"S\",..: 7 3 3 8 6 1 8 5 3 3 ...\n",
      " $ SellerG      : Factor w/ 330 levels \"@Realty\",\"Abercromby's\",..: 147 30 30 269 30 30 208 208 30 65 ...\n",
      " $ Date         : Factor w/ 58 levels \"1/07/2017\",\"10/09/2016\",..: 44 46 48 48 49 49 50 52 52 52 ...\n",
      " $ Distance     : Factor w/ 212 levels \"#N/A\",\"0\",\"0.7\",..: 82 82 82 82 82 82 82 82 82 82 ...\n",
      " $ Postcode     : Factor w/ 207 levels \"#N/A\",\"3000\",..: 55 55 55 55 55 55 55 55 55 55 ...\n",
      " $ Bedroom2     : int  2 2 2 3 3 3 3 3 4 3 ...\n",
      " $ Bathroom     : int  1 1 1 2 2 2 1 2 1 2 ...\n",
      " $ Car          : int  1 1 0 1 0 1 2 2 2 1 ...\n",
      " $ Landsize     : int  126 202 156 0 134 94 120 400 201 202 ...\n",
      " $ BuildingArea : num  NA NA 79 NA 150 NA 142 220 NA NA ...\n",
      " $ YearBuilt    : int  NA NA 1900 NA 1900 NA 2014 2006 1900 1900 ...\n",
      " $ CouncilArea  : Factor w/ 35 levels \"\",\"Banyule\",\"Bayside\",..: 34 34 34 34 34 34 34 34 34 34 ...\n",
      " $ Lattitude    : num  -37.8 -37.8 -37.8 -37.8 -37.8 ...\n",
      " $ Longtitude   : num  145 145 145 145 145 ...\n",
      " $ Regionname   : Factor w/ 9 levels \"#N/A\",\"Eastern Metropolitan\",..: 4 4 4 4 4 4 4 4 4 4 ...\n",
      " $ Propertycount: Factor w/ 331 levels \"#N/A\",\"1008\",..: 184 184 184 184 184 184 184 184 184 184 ...\n"
     ]
    }
   ],
   "source": [
    "str(df)"
   ]
  },
  {
   "cell_type": "code",
   "execution_count": 9,
   "metadata": {
    "collapsed": true
   },
   "outputs": [],
   "source": [
    "df$Date = as.Date(df$Date, format = \"%d/%m/%Y\")"
   ]
  },
  {
   "cell_type": "code",
   "execution_count": 10,
   "metadata": {},
   "outputs": [
    {
     "data": {
      "text/html": [
       "<table>\n",
       "<thead><tr><th scope=col>Suburb</th><th scope=col>Address</th><th scope=col>Rooms</th><th scope=col>Type</th><th scope=col>Price</th><th scope=col>Method</th><th scope=col>SellerG</th><th scope=col>Date</th><th scope=col>Distance</th><th scope=col>Postcode</th><th scope=col>⋯</th><th scope=col>Bathroom</th><th scope=col>Car</th><th scope=col>Landsize</th><th scope=col>BuildingArea</th><th scope=col>YearBuilt</th><th scope=col>CouncilArea</th><th scope=col>Lattitude</th><th scope=col>Longtitude</th><th scope=col>Regionname</th><th scope=col>Propertycount</th></tr></thead>\n",
       "<tbody>\n",
       "\t<tr><td>Abbotsford           </td><td>68 Studley St        </td><td>2                    </td><td>h                    </td><td>     NA              </td><td>SS                   </td><td>Jellis               </td><td>2016-09-03           </td><td>2.5                  </td><td>3067                 </td><td>⋯                    </td><td>1                    </td><td>1                    </td><td>126                  </td><td> NA                  </td><td>  NA                 </td><td>Yarra                </td><td>-37.8014             </td><td>144.9958             </td><td>Northern Metropolitan</td><td>4019                 </td></tr>\n",
       "\t<tr><td>Abbotsford           </td><td>85 Turner St         </td><td>2                    </td><td>h                    </td><td>1480000              </td><td>S                    </td><td>Biggin               </td><td>2016-12-03           </td><td>2.5                  </td><td>3067                 </td><td>⋯                    </td><td>1                    </td><td>1                    </td><td>202                  </td><td> NA                  </td><td>  NA                 </td><td>Yarra                </td><td>-37.7996             </td><td>144.9984             </td><td>Northern Metropolitan</td><td>4019                 </td></tr>\n",
       "\t<tr><td>Abbotsford           </td><td>25 Bloomburg St      </td><td>2                    </td><td>h                    </td><td>1035000              </td><td>S                    </td><td>Biggin               </td><td>2016-02-04           </td><td>2.5                  </td><td>3067                 </td><td>⋯                    </td><td>1                    </td><td>0                    </td><td>156                  </td><td> 79                  </td><td>1900                 </td><td>Yarra                </td><td>-37.8079             </td><td>144.9934             </td><td>Northern Metropolitan</td><td>4019                 </td></tr>\n",
       "\t<tr><td>Abbotsford           </td><td>18/659 Victoria St   </td><td>3                    </td><td>u                    </td><td>     NA              </td><td>VB                   </td><td>Rounds               </td><td>2016-02-04           </td><td>2.5                  </td><td>3067                 </td><td>⋯                    </td><td>2                    </td><td>1                    </td><td>  0                  </td><td> NA                  </td><td>  NA                 </td><td>Yarra                </td><td>-37.8114             </td><td>145.0116             </td><td>Northern Metropolitan</td><td>4019                 </td></tr>\n",
       "\t<tr><td>Abbotsford           </td><td>5 Charles St         </td><td>3                    </td><td>h                    </td><td>1465000              </td><td>SP                   </td><td>Biggin               </td><td>2017-03-04           </td><td>2.5                  </td><td>3067                 </td><td>⋯                    </td><td>2                    </td><td>0                    </td><td>134                  </td><td>150                  </td><td>1900                 </td><td>Yarra                </td><td>-37.8093             </td><td>144.9944             </td><td>Northern Metropolitan</td><td>4019                 </td></tr>\n",
       "\t<tr><td>Abbotsford           </td><td>40 Federation La     </td><td>3                    </td><td>h                    </td><td> 850000              </td><td>PI                   </td><td>Biggin               </td><td>2017-03-04           </td><td>2.5                  </td><td>3067                 </td><td>⋯                    </td><td>2                    </td><td>1                    </td><td> 94                  </td><td> NA                  </td><td>  NA                 </td><td>Yarra                </td><td>-37.7969             </td><td>144.9969             </td><td>Northern Metropolitan</td><td>4019                 </td></tr>\n",
       "</tbody>\n",
       "</table>\n"
      ],
      "text/latex": [
       "\\begin{tabular}{r|lllllllllllllllllllll}\n",
       " Suburb & Address & Rooms & Type & Price & Method & SellerG & Date & Distance & Postcode & ⋯ & Bathroom & Car & Landsize & BuildingArea & YearBuilt & CouncilArea & Lattitude & Longtitude & Regionname & Propertycount\\\\\n",
       "\\hline\n",
       "\t Abbotsford            & 68 Studley St         & 2                     & h                     &      NA               & SS                    & Jellis                & 2016-09-03            & 2.5                   & 3067                  & ⋯                     & 1                     & 1                     & 126                   &  NA                   &   NA                  & Yarra                 & -37.8014              & 144.9958              & Northern Metropolitan & 4019                 \\\\\n",
       "\t Abbotsford            & 85 Turner St          & 2                     & h                     & 1480000               & S                     & Biggin                & 2016-12-03            & 2.5                   & 3067                  & ⋯                     & 1                     & 1                     & 202                   &  NA                   &   NA                  & Yarra                 & -37.7996              & 144.9984              & Northern Metropolitan & 4019                 \\\\\n",
       "\t Abbotsford            & 25 Bloomburg St       & 2                     & h                     & 1035000               & S                     & Biggin                & 2016-02-04            & 2.5                   & 3067                  & ⋯                     & 1                     & 0                     & 156                   &  79                   & 1900                  & Yarra                 & -37.8079              & 144.9934              & Northern Metropolitan & 4019                 \\\\\n",
       "\t Abbotsford            & 18/659 Victoria St    & 3                     & u                     &      NA               & VB                    & Rounds                & 2016-02-04            & 2.5                   & 3067                  & ⋯                     & 2                     & 1                     &   0                   &  NA                   &   NA                  & Yarra                 & -37.8114              & 145.0116              & Northern Metropolitan & 4019                 \\\\\n",
       "\t Abbotsford            & 5 Charles St          & 3                     & h                     & 1465000               & SP                    & Biggin                & 2017-03-04            & 2.5                   & 3067                  & ⋯                     & 2                     & 0                     & 134                   & 150                   & 1900                  & Yarra                 & -37.8093              & 144.9944              & Northern Metropolitan & 4019                 \\\\\n",
       "\t Abbotsford            & 40 Federation La      & 3                     & h                     &  850000               & PI                    & Biggin                & 2017-03-04            & 2.5                   & 3067                  & ⋯                     & 2                     & 1                     &  94                   &  NA                   &   NA                  & Yarra                 & -37.7969              & 144.9969              & Northern Metropolitan & 4019                 \\\\\n",
       "\\end{tabular}\n"
      ],
      "text/markdown": [
       "\n",
       "Suburb | Address | Rooms | Type | Price | Method | SellerG | Date | Distance | Postcode | ⋯ | Bathroom | Car | Landsize | BuildingArea | YearBuilt | CouncilArea | Lattitude | Longtitude | Regionname | Propertycount | \n",
       "|---|---|---|---|---|---|\n",
       "| Abbotsford            | 68 Studley St         | 2                     | h                     |      NA               | SS                    | Jellis                | 2016-09-03            | 2.5                   | 3067                  | ⋯                     | 1                     | 1                     | 126                   |  NA                   |   NA                  | Yarra                 | -37.8014              | 144.9958              | Northern Metropolitan | 4019                  | \n",
       "| Abbotsford            | 85 Turner St          | 2                     | h                     | 1480000               | S                     | Biggin                | 2016-12-03            | 2.5                   | 3067                  | ⋯                     | 1                     | 1                     | 202                   |  NA                   |   NA                  | Yarra                 | -37.7996              | 144.9984              | Northern Metropolitan | 4019                  | \n",
       "| Abbotsford            | 25 Bloomburg St       | 2                     | h                     | 1035000               | S                     | Biggin                | 2016-02-04            | 2.5                   | 3067                  | ⋯                     | 1                     | 0                     | 156                   |  79                   | 1900                  | Yarra                 | -37.8079              | 144.9934              | Northern Metropolitan | 4019                  | \n",
       "| Abbotsford            | 18/659 Victoria St    | 3                     | u                     |      NA               | VB                    | Rounds                | 2016-02-04            | 2.5                   | 3067                  | ⋯                     | 2                     | 1                     |   0                   |  NA                   |   NA                  | Yarra                 | -37.8114              | 145.0116              | Northern Metropolitan | 4019                  | \n",
       "| Abbotsford            | 5 Charles St          | 3                     | h                     | 1465000               | SP                    | Biggin                | 2017-03-04            | 2.5                   | 3067                  | ⋯                     | 2                     | 0                     | 134                   | 150                   | 1900                  | Yarra                 | -37.8093              | 144.9944              | Northern Metropolitan | 4019                  | \n",
       "| Abbotsford            | 40 Federation La      | 3                     | h                     |  850000               | PI                    | Biggin                | 2017-03-04            | 2.5                   | 3067                  | ⋯                     | 2                     | 1                     |  94                   |  NA                   |   NA                  | Yarra                 | -37.7969              | 144.9969              | Northern Metropolitan | 4019                  | \n",
       "\n",
       "\n"
      ],
      "text/plain": [
       "  Suburb     Address            Rooms Type Price   Method SellerG Date      \n",
       "1 Abbotsford 68 Studley St      2     h         NA SS     Jellis  2016-09-03\n",
       "2 Abbotsford 85 Turner St       2     h    1480000 S      Biggin  2016-12-03\n",
       "3 Abbotsford 25 Bloomburg St    2     h    1035000 S      Biggin  2016-02-04\n",
       "4 Abbotsford 18/659 Victoria St 3     u         NA VB     Rounds  2016-02-04\n",
       "5 Abbotsford 5 Charles St       3     h    1465000 SP     Biggin  2017-03-04\n",
       "6 Abbotsford 40 Federation La   3     h     850000 PI     Biggin  2017-03-04\n",
       "  Distance Postcode ⋯ Bathroom Car Landsize BuildingArea YearBuilt CouncilArea\n",
       "1 2.5      3067     ⋯ 1        1   126       NA            NA      Yarra      \n",
       "2 2.5      3067     ⋯ 1        1   202       NA            NA      Yarra      \n",
       "3 2.5      3067     ⋯ 1        0   156       79          1900      Yarra      \n",
       "4 2.5      3067     ⋯ 2        1     0       NA            NA      Yarra      \n",
       "5 2.5      3067     ⋯ 2        0   134      150          1900      Yarra      \n",
       "6 2.5      3067     ⋯ 2        1    94       NA            NA      Yarra      \n",
       "  Lattitude Longtitude Regionname            Propertycount\n",
       "1 -37.8014  144.9958   Northern Metropolitan 4019         \n",
       "2 -37.7996  144.9984   Northern Metropolitan 4019         \n",
       "3 -37.8079  144.9934   Northern Metropolitan 4019         \n",
       "4 -37.8114  145.0116   Northern Metropolitan 4019         \n",
       "5 -37.8093  144.9944   Northern Metropolitan 4019         \n",
       "6 -37.7969  144.9969   Northern Metropolitan 4019         "
      ]
     },
     "metadata": {},
     "output_type": "display_data"
    }
   ],
   "source": [
    "head(df)"
   ]
  },
  {
   "cell_type": "code",
   "execution_count": 11,
   "metadata": {},
   "outputs": [
    {
     "data": {
      "text/html": [
       "<dl class=dl-horizontal>\n",
       "\t<dt>Suburb</dt>\n",
       "\t\t<dd>0</dd>\n",
       "\t<dt>Address</dt>\n",
       "\t\t<dd>0</dd>\n",
       "\t<dt>Rooms</dt>\n",
       "\t\t<dd>0</dd>\n",
       "\t<dt>Type</dt>\n",
       "\t\t<dd>0</dd>\n",
       "\t<dt>Price</dt>\n",
       "\t\t<dd>5151</dd>\n",
       "\t<dt>Method</dt>\n",
       "\t\t<dd>0</dd>\n",
       "\t<dt>SellerG</dt>\n",
       "\t\t<dd>0</dd>\n",
       "\t<dt>Date</dt>\n",
       "\t\t<dd>0</dd>\n",
       "\t<dt>Distance</dt>\n",
       "\t\t<dd>0</dd>\n",
       "\t<dt>Postcode</dt>\n",
       "\t\t<dd>0</dd>\n",
       "\t<dt>Bedroom2</dt>\n",
       "\t\t<dd>4481</dd>\n",
       "\t<dt>Bathroom</dt>\n",
       "\t\t<dd>4484</dd>\n",
       "\t<dt>Car</dt>\n",
       "\t\t<dd>4626</dd>\n",
       "\t<dt>Landsize</dt>\n",
       "\t\t<dd>6137</dd>\n",
       "\t<dt>BuildingArea</dt>\n",
       "\t\t<dd>13529</dd>\n",
       "\t<dt>YearBuilt</dt>\n",
       "\t\t<dd>12007</dd>\n",
       "\t<dt>CouncilArea</dt>\n",
       "\t\t<dd>0</dd>\n",
       "\t<dt>Lattitude</dt>\n",
       "\t\t<dd>4304</dd>\n",
       "\t<dt>Longtitude</dt>\n",
       "\t\t<dd>4304</dd>\n",
       "\t<dt>Regionname</dt>\n",
       "\t\t<dd>0</dd>\n",
       "\t<dt>Propertycount</dt>\n",
       "\t\t<dd>0</dd>\n",
       "</dl>\n"
      ],
      "text/latex": [
       "\\begin{description*}\n",
       "\\item[Suburb] 0\n",
       "\\item[Address] 0\n",
       "\\item[Rooms] 0\n",
       "\\item[Type] 0\n",
       "\\item[Price] 5151\n",
       "\\item[Method] 0\n",
       "\\item[SellerG] 0\n",
       "\\item[Date] 0\n",
       "\\item[Distance] 0\n",
       "\\item[Postcode] 0\n",
       "\\item[Bedroom2] 4481\n",
       "\\item[Bathroom] 4484\n",
       "\\item[Car] 4626\n",
       "\\item[Landsize] 6137\n",
       "\\item[BuildingArea] 13529\n",
       "\\item[YearBuilt] 12007\n",
       "\\item[CouncilArea] 0\n",
       "\\item[Lattitude] 4304\n",
       "\\item[Longtitude] 4304\n",
       "\\item[Regionname] 0\n",
       "\\item[Propertycount] 0\n",
       "\\end{description*}\n"
      ],
      "text/markdown": [
       "Suburb\n",
       ":   0Address\n",
       ":   0Rooms\n",
       ":   0Type\n",
       ":   0Price\n",
       ":   5151Method\n",
       ":   0SellerG\n",
       ":   0Date\n",
       ":   0Distance\n",
       ":   0Postcode\n",
       ":   0Bedroom2\n",
       ":   4481Bathroom\n",
       ":   4484Car\n",
       ":   4626Landsize\n",
       ":   6137BuildingArea\n",
       ":   13529YearBuilt\n",
       ":   12007CouncilArea\n",
       ":   0Lattitude\n",
       ":   4304Longtitude\n",
       ":   4304Regionname\n",
       ":   0Propertycount\n",
       ":   0\n",
       "\n"
      ],
      "text/plain": [
       "       Suburb       Address         Rooms          Type         Price \n",
       "            0             0             0             0          5151 \n",
       "       Method       SellerG          Date      Distance      Postcode \n",
       "            0             0             0             0             0 \n",
       "     Bedroom2      Bathroom           Car      Landsize  BuildingArea \n",
       "         4481          4484          4626          6137         13529 \n",
       "    YearBuilt   CouncilArea     Lattitude    Longtitude    Regionname \n",
       "        12007             0          4304          4304             0 \n",
       "Propertycount \n",
       "            0 "
      ]
     },
     "metadata": {},
     "output_type": "display_data"
    }
   ],
   "source": [
    "colSums(is.na(df))"
   ]
  },
  {
   "cell_type": "code",
   "execution_count": null,
   "metadata": {
    "collapsed": true
   },
   "outputs": [],
   "source": []
  },
  {
   "cell_type": "code",
   "execution_count": 29,
   "metadata": {},
   "outputs": [
    {
     "data": {},
     "metadata": {},
     "output_type": "display_data"
    },
    {
     "data": {
      "image/png": "[encoded data removed]",
      "text/plain": [
       "plot without title"
      ]
     },
     "metadata": {},
     "output_type": "display_data"
    }
   ],
   "source": [
    "g <- ggplot(df, aes(x = Method,label = Method))\n",
    "g + geom_bar() + geom_text(stat='count',aes(label=round((..count..)/sum(..count..),3)),vjust=-1)"
   ]
  },
  {
   "cell_type": "markdown",
   "metadata": {},
   "source": [
    "S - property sold; SP - property sold prior; PI - property passed in; PN - sold prior not disclosed; SN - sold not disclosed; NB - no bid; VB - vendor bid; W - withdrawn prior to auction; SA - sold after auction; SS - sold after auction price not disclosed. N/A - price or highest bid not available."
   ]
  },
  {
   "cell_type": "markdown",
   "metadata": {},
   "source": [
    "58% of the houses are sold during the Auction . "
   ]
  },
  {
   "cell_type": "code",
   "execution_count": 23,
   "metadata": {},
   "outputs": [
    {
     "data": {
      "text/html": [
       "0.580116363018644"
      ],
      "text/latex": [
       "0.580116363018644"
      ],
      "text/markdown": [
       "0.580116363018644"
      ],
      "text/plain": [
       "[1] 0.5801164"
      ]
     },
     "metadata": {},
     "output_type": "display_data"
    }
   ],
   "source": [
    "13660/23547"
   ]
  },
  {
   "cell_type": "code",
   "execution_count": null,
   "metadata": {
    "collapsed": true
   },
   "outputs": [],
   "source": []
  }
 ],
 "metadata": {
  "kernelspec": {
   "display_name": "R",
   "language": "R",
   "name": "ir"
  },
  "language_info": {
   "codemirror_mode": "r",
   "file_extension": ".r",
   "mimetype": "text/x-r-source",
   "name": "R",
   "pygments_lexer": "r",
   "version": "3.3.2"
  }
 },
 "nbformat": 4,
 "nbformat_minor": 2
}
