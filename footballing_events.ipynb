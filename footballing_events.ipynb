{
 "cells": [
  {
   "cell_type": "markdown",
   "metadata": {},
   "source": [
    "# Football events "
   ]
  },
  {
   "cell_type": "markdown",
   "metadata": {},
   "source": [
    "This is data of footballing events in europe. As an avid fan of football and sport in general I wanted to have a look at a sporting data set. This will mainly be visualisations."
   ]
  },
  {
   "cell_type": "markdown",
   "metadata": {},
   "source": [
    "source - https://www.kaggle.com/secareanualin/football-events"
   ]
  },
  {
   "cell_type": "code",
   "execution_count": 437,
   "metadata": {
    "collapsed": true
   },
   "outputs": [],
   "source": [
    "import pandas as pd\n",
    "import numpy as np\n",
    "import matplotlib.pyplot as plt\n",
    "import scipy as sp \n",
    "import seaborn as sns\n",
    "\n",
    "# events = pd.read_csv(\"../input/events.csv\")\n",
    "# game_info=pd.read_csv(\"../input/ginf.csv\")\n",
    "\n",
    "plt.style.use('ggplot')\n",
    "%matplotlib inline"
   ]
  },
  {
   "cell_type": "code",
   "execution_count": 304,
   "metadata": {
    "collapsed": true
   },
   "outputs": [],
   "source": [
    "events = pd.read_csv(\"input/football-events/events.csv\")"
   ]
  },
  {
   "cell_type": "code",
   "execution_count": 80,
   "metadata": {
    "collapsed": true
   },
   "outputs": [],
   "source": [
    "ginf = pd.read_csv(\"input/football-events/ginf.csv\")"
   ]
  },
  {
   "cell_type": "code",
   "execution_count": 477,
   "metadata": {},
   "outputs": [
    {
     "data": {
      "text/html": [
       "<div>\n",
       "<style>\n",
       "    .dataframe thead tr:only-child th {\n",
       "        text-align: right;\n",
       "    }\n",
       "\n",
       "    .dataframe thead th {\n",
       "        text-align: left;\n",
       "    }\n",
       "\n",
       "    .dataframe tbody tr th {\n",
       "        vertical-align: top;\n",
       "    }\n",
       "</style>\n",
       "<table border=\"1\" class=\"dataframe\">\n",
       "  <thead>\n",
       "    <tr style=\"text-align: right;\">\n",
       "      <th></th>\n",
       "      <th>id_odsp</th>\n",
       "      <th>id_event</th>\n",
       "      <th>sort_order</th>\n",
       "      <th>time</th>\n",
       "      <th>text</th>\n",
       "      <th>event_type</th>\n",
       "      <th>event_type2</th>\n",
       "      <th>side</th>\n",
       "      <th>event_team</th>\n",
       "      <th>opponent</th>\n",
       "      <th>...</th>\n",
       "      <th>player_in</th>\n",
       "      <th>player_out</th>\n",
       "      <th>shot_place</th>\n",
       "      <th>shot_outcome</th>\n",
       "      <th>is_goal</th>\n",
       "      <th>location</th>\n",
       "      <th>bodypart</th>\n",
       "      <th>assist_method</th>\n",
       "      <th>situation</th>\n",
       "      <th>fast_break</th>\n",
       "    </tr>\n",
       "  </thead>\n",
       "  <tbody>\n",
       "    <tr>\n",
       "      <th>0</th>\n",
       "      <td>UFot0hit/</td>\n",
       "      <td>UFot0hit1</td>\n",
       "      <td>1</td>\n",
       "      <td>2</td>\n",
       "      <td>Attempt missed. Mladen Petric (Hamburg) left f...</td>\n",
       "      <td>Attempt</td>\n",
       "      <td>Key Pass</td>\n",
       "      <td>Away</td>\n",
       "      <td>Hamburg SV</td>\n",
       "      <td>Borussia Dortmund</td>\n",
       "      <td>...</td>\n",
       "      <td>NaN</td>\n",
       "      <td>NaN</td>\n",
       "      <td>High and wide</td>\n",
       "      <td>Off target</td>\n",
       "      <td>0</td>\n",
       "      <td>Left side of the box</td>\n",
       "      <td>left foot</td>\n",
       "      <td>Pass</td>\n",
       "      <td>Open play</td>\n",
       "      <td>0</td>\n",
       "    </tr>\n",
       "    <tr>\n",
       "      <th>1</th>\n",
       "      <td>UFot0hit/</td>\n",
       "      <td>UFot0hit2</td>\n",
       "      <td>2</td>\n",
       "      <td>4</td>\n",
       "      <td>Corner,  Borussia Dortmund. Conceded by Dennis...</td>\n",
       "      <td>Corner</td>\n",
       "      <td>NaN</td>\n",
       "      <td>Home</td>\n",
       "      <td>Borussia Dortmund</td>\n",
       "      <td>Hamburg SV</td>\n",
       "      <td>...</td>\n",
       "      <td>NaN</td>\n",
       "      <td>NaN</td>\n",
       "      <td>NaN</td>\n",
       "      <td>NaN</td>\n",
       "      <td>0</td>\n",
       "      <td>NaN</td>\n",
       "      <td>NaN</td>\n",
       "      <td>None</td>\n",
       "      <td>NaN</td>\n",
       "      <td>0</td>\n",
       "    </tr>\n",
       "    <tr>\n",
       "      <th>2</th>\n",
       "      <td>UFot0hit/</td>\n",
       "      <td>UFot0hit3</td>\n",
       "      <td>3</td>\n",
       "      <td>4</td>\n",
       "      <td>Corner,  Borussia Dortmund. Conceded by Heiko ...</td>\n",
       "      <td>Corner</td>\n",
       "      <td>NaN</td>\n",
       "      <td>Home</td>\n",
       "      <td>Borussia Dortmund</td>\n",
       "      <td>Hamburg SV</td>\n",
       "      <td>...</td>\n",
       "      <td>NaN</td>\n",
       "      <td>NaN</td>\n",
       "      <td>NaN</td>\n",
       "      <td>NaN</td>\n",
       "      <td>0</td>\n",
       "      <td>NaN</td>\n",
       "      <td>NaN</td>\n",
       "      <td>None</td>\n",
       "      <td>NaN</td>\n",
       "      <td>0</td>\n",
       "    </tr>\n",
       "    <tr>\n",
       "      <th>3</th>\n",
       "      <td>UFot0hit/</td>\n",
       "      <td>UFot0hit4</td>\n",
       "      <td>4</td>\n",
       "      <td>7</td>\n",
       "      <td>Foul by Sven Bender (Borussia Dortmund).</td>\n",
       "      <td>Foul</td>\n",
       "      <td>NaN</td>\n",
       "      <td>Home</td>\n",
       "      <td>Borussia Dortmund</td>\n",
       "      <td>Hamburg SV</td>\n",
       "      <td>...</td>\n",
       "      <td>NaN</td>\n",
       "      <td>NaN</td>\n",
       "      <td>NaN</td>\n",
       "      <td>NaN</td>\n",
       "      <td>0</td>\n",
       "      <td>NaN</td>\n",
       "      <td>NaN</td>\n",
       "      <td>None</td>\n",
       "      <td>NaN</td>\n",
       "      <td>0</td>\n",
       "    </tr>\n",
       "    <tr>\n",
       "      <th>4</th>\n",
       "      <td>UFot0hit/</td>\n",
       "      <td>UFot0hit5</td>\n",
       "      <td>5</td>\n",
       "      <td>7</td>\n",
       "      <td>Gokhan Tore (Hamburg) wins a free kick in the ...</td>\n",
       "      <td>Free kick won</td>\n",
       "      <td>NaN</td>\n",
       "      <td>Away</td>\n",
       "      <td>Hamburg SV</td>\n",
       "      <td>Borussia Dortmund</td>\n",
       "      <td>...</td>\n",
       "      <td>NaN</td>\n",
       "      <td>NaN</td>\n",
       "      <td>NaN</td>\n",
       "      <td>NaN</td>\n",
       "      <td>0</td>\n",
       "      <td>Defensive half</td>\n",
       "      <td>NaN</td>\n",
       "      <td>None</td>\n",
       "      <td>NaN</td>\n",
       "      <td>0</td>\n",
       "    </tr>\n",
       "  </tbody>\n",
       "</table>\n",
       "<p>5 rows × 22 columns</p>\n",
       "</div>"
      ],
      "text/plain": [
       "     id_odsp   id_event  sort_order  time  \\\n",
       "0  UFot0hit/  UFot0hit1           1     2   \n",
       "1  UFot0hit/  UFot0hit2           2     4   \n",
       "2  UFot0hit/  UFot0hit3           3     4   \n",
       "3  UFot0hit/  UFot0hit4           4     7   \n",
       "4  UFot0hit/  UFot0hit5           5     7   \n",
       "\n",
       "                                                text     event_type  \\\n",
       "0  Attempt missed. Mladen Petric (Hamburg) left f...        Attempt   \n",
       "1  Corner,  Borussia Dortmund. Conceded by Dennis...         Corner   \n",
       "2  Corner,  Borussia Dortmund. Conceded by Heiko ...         Corner   \n",
       "3           Foul by Sven Bender (Borussia Dortmund).           Foul   \n",
       "4  Gokhan Tore (Hamburg) wins a free kick in the ...  Free kick won   \n",
       "\n",
       "  event_type2  side         event_team           opponent    ...      \\\n",
       "0    Key Pass  Away         Hamburg SV  Borussia Dortmund    ...       \n",
       "1         NaN  Home  Borussia Dortmund         Hamburg SV    ...       \n",
       "2         NaN  Home  Borussia Dortmund         Hamburg SV    ...       \n",
       "3         NaN  Home  Borussia Dortmund         Hamburg SV    ...       \n",
       "4         NaN  Away         Hamburg SV  Borussia Dortmund    ...       \n",
       "\n",
       "  player_in player_out     shot_place shot_outcome is_goal  \\\n",
       "0       NaN        NaN  High and wide   Off target       0   \n",
       "1       NaN        NaN            NaN          NaN       0   \n",
       "2       NaN        NaN            NaN          NaN       0   \n",
       "3       NaN        NaN            NaN          NaN       0   \n",
       "4       NaN        NaN            NaN          NaN       0   \n",
       "\n",
       "               location   bodypart assist_method  situation fast_break  \n",
       "0  Left side of the box  left foot          Pass  Open play          0  \n",
       "1                   NaN        NaN          None        NaN          0  \n",
       "2                   NaN        NaN          None        NaN          0  \n",
       "3                   NaN        NaN          None        NaN          0  \n",
       "4        Defensive half        NaN          None        NaN          0  \n",
       "\n",
       "[5 rows x 22 columns]"
      ]
     },
     "execution_count": 477,
     "metadata": {},
     "output_type": "execute_result"
    }
   ],
   "source": [
    "events.head()"
   ]
  },
  {
   "cell_type": "code",
   "execution_count": 425,
   "metadata": {},
   "outputs": [
    {
     "data": {
      "text/html": [
       "<div>\n",
       "<style>\n",
       "    .dataframe thead tr:only-child th {\n",
       "        text-align: right;\n",
       "    }\n",
       "\n",
       "    .dataframe thead th {\n",
       "        text-align: left;\n",
       "    }\n",
       "\n",
       "    .dataframe tbody tr th {\n",
       "        vertical-align: top;\n",
       "    }\n",
       "</style>\n",
       "<table border=\"1\" class=\"dataframe\">\n",
       "  <thead>\n",
       "    <tr style=\"text-align: right;\">\n",
       "      <th></th>\n",
       "      <th>id_odsp</th>\n",
       "      <th>link_odsp</th>\n",
       "      <th>adv_stats</th>\n",
       "      <th>date</th>\n",
       "      <th>league</th>\n",
       "      <th>season</th>\n",
       "      <th>country</th>\n",
       "      <th>ht</th>\n",
       "      <th>at</th>\n",
       "      <th>fthg</th>\n",
       "      <th>ftag</th>\n",
       "      <th>odd_h</th>\n",
       "      <th>odd_d</th>\n",
       "      <th>odd_a</th>\n",
       "      <th>odd_over</th>\n",
       "      <th>odd_under</th>\n",
       "      <th>odd_bts</th>\n",
       "      <th>odd_bts_n</th>\n",
       "    </tr>\n",
       "  </thead>\n",
       "  <tbody>\n",
       "    <tr>\n",
       "      <th>10107</th>\n",
       "      <td>xAkY8l6R/</td>\n",
       "      <td>/soccer/italy/serie-a/genoa-crotone-xAkY8l6R/</td>\n",
       "      <td>True</td>\n",
       "      <td>2017-01-22</td>\n",
       "      <td>I1</td>\n",
       "      <td>2017</td>\n",
       "      <td>italy</td>\n",
       "      <td>Genoa</td>\n",
       "      <td>Crotone</td>\n",
       "      <td>2</td>\n",
       "      <td>2</td>\n",
       "      <td>1.97</td>\n",
       "      <td>4.35</td>\n",
       "      <td>8.0</td>\n",
       "      <td>1.95</td>\n",
       "      <td>2.03</td>\n",
       "      <td>2.03</td>\n",
       "      <td>1.86</td>\n",
       "    </tr>\n",
       "    <tr>\n",
       "      <th>10108</th>\n",
       "      <td>xSU9scI9/</td>\n",
       "      <td>/soccer/england/premier-league/chelsea-hull-ci...</td>\n",
       "      <td>True</td>\n",
       "      <td>2017-01-22</td>\n",
       "      <td>E0</td>\n",
       "      <td>2017</td>\n",
       "      <td>england</td>\n",
       "      <td>Chelsea</td>\n",
       "      <td>Hull</td>\n",
       "      <td>2</td>\n",
       "      <td>0</td>\n",
       "      <td>1.19</td>\n",
       "      <td>8.50</td>\n",
       "      <td>20.0</td>\n",
       "      <td>1.54</td>\n",
       "      <td>2.68</td>\n",
       "      <td>2.40</td>\n",
       "      <td>1.66</td>\n",
       "    </tr>\n",
       "    <tr>\n",
       "      <th>10109</th>\n",
       "      <td>xY7uZwOI/</td>\n",
       "      <td>/soccer/france/ligue-1/monaco-lorient-xY7uZwOI/</td>\n",
       "      <td>True</td>\n",
       "      <td>2017-01-22</td>\n",
       "      <td>F1</td>\n",
       "      <td>2017</td>\n",
       "      <td>france</td>\n",
       "      <td>AS Monaco</td>\n",
       "      <td>Lorient</td>\n",
       "      <td>4</td>\n",
       "      <td>0</td>\n",
       "      <td>1.32</td>\n",
       "      <td>6.24</td>\n",
       "      <td>11.5</td>\n",
       "      <td>1.53</td>\n",
       "      <td>3.08</td>\n",
       "      <td>1.80</td>\n",
       "      <td>2.25</td>\n",
       "    </tr>\n",
       "    <tr>\n",
       "      <th>10110</th>\n",
       "      <td>YyeGxMX8/</td>\n",
       "      <td>/soccer/spain/laliga/betis-gijon-YyeGxMX8/</td>\n",
       "      <td>True</td>\n",
       "      <td>2017-01-22</td>\n",
       "      <td>SP1</td>\n",
       "      <td>2017</td>\n",
       "      <td>spain</td>\n",
       "      <td>Real Betis</td>\n",
       "      <td>Sporting Gijon</td>\n",
       "      <td>0</td>\n",
       "      <td>0</td>\n",
       "      <td>1.74</td>\n",
       "      <td>4.07</td>\n",
       "      <td>5.9</td>\n",
       "      <td>2.20</td>\n",
       "      <td>1.89</td>\n",
       "      <td>2.05</td>\n",
       "      <td>1.86</td>\n",
       "    </tr>\n",
       "    <tr>\n",
       "      <th>10111</th>\n",
       "      <td>z5L2OT5E/</td>\n",
       "      <td>/soccer/italy/serie-a/atalanta-sampdoria-z5L2O...</td>\n",
       "      <td>True</td>\n",
       "      <td>2017-01-22</td>\n",
       "      <td>I1</td>\n",
       "      <td>2017</td>\n",
       "      <td>italy</td>\n",
       "      <td>Atalanta</td>\n",
       "      <td>Sampdoria</td>\n",
       "      <td>1</td>\n",
       "      <td>0</td>\n",
       "      <td>1.79</td>\n",
       "      <td>3.96</td>\n",
       "      <td>5.4</td>\n",
       "      <td>1.90</td>\n",
       "      <td>2.07</td>\n",
       "      <td>1.80</td>\n",
       "      <td>2.16</td>\n",
       "    </tr>\n",
       "  </tbody>\n",
       "</table>\n",
       "</div>"
      ],
      "text/plain": [
       "         id_odsp                                          link_odsp  \\\n",
       "10107  xAkY8l6R/      /soccer/italy/serie-a/genoa-crotone-xAkY8l6R/   \n",
       "10108  xSU9scI9/  /soccer/england/premier-league/chelsea-hull-ci...   \n",
       "10109  xY7uZwOI/    /soccer/france/ligue-1/monaco-lorient-xY7uZwOI/   \n",
       "10110  YyeGxMX8/         /soccer/spain/laliga/betis-gijon-YyeGxMX8/   \n",
       "10111  z5L2OT5E/  /soccer/italy/serie-a/atalanta-sampdoria-z5L2O...   \n",
       "\n",
       "       adv_stats        date league  season  country          ht  \\\n",
       "10107       True  2017-01-22     I1    2017    italy       Genoa   \n",
       "10108       True  2017-01-22     E0    2017  england     Chelsea   \n",
       "10109       True  2017-01-22     F1    2017   france   AS Monaco   \n",
       "10110       True  2017-01-22    SP1    2017    spain  Real Betis   \n",
       "10111       True  2017-01-22     I1    2017    italy    Atalanta   \n",
       "\n",
       "                   at  fthg  ftag  odd_h  odd_d  odd_a  odd_over  odd_under  \\\n",
       "10107         Crotone     2     2   1.97   4.35    8.0      1.95       2.03   \n",
       "10108            Hull     2     0   1.19   8.50   20.0      1.54       2.68   \n",
       "10109         Lorient     4     0   1.32   6.24   11.5      1.53       3.08   \n",
       "10110  Sporting Gijon     0     0   1.74   4.07    5.9      2.20       1.89   \n",
       "10111       Sampdoria     1     0   1.79   3.96    5.4      1.90       2.07   \n",
       "\n",
       "       odd_bts  odd_bts_n  \n",
       "10107     2.03       1.86  \n",
       "10108     2.40       1.66  \n",
       "10109     1.80       2.25  \n",
       "10110     2.05       1.86  \n",
       "10111     1.80       2.16  "
      ]
     },
     "execution_count": 425,
     "metadata": {},
     "output_type": "execute_result"
    }
   ],
   "source": [
    "ginf.tail()"
   ]
  },
  {
   "cell_type": "code",
   "execution_count": 216,
   "metadata": {
    "collapsed": true
   },
   "outputs": [],
   "source": [
    "df3 = pd.read_csv(\"input/football-events/dictionary.txt\",header= None)"
   ]
  },
  {
   "cell_type": "code",
   "execution_count": 217,
   "metadata": {},
   "outputs": [
    {
     "data": {
      "text/html": [
       "<div>\n",
       "<style>\n",
       "    .dataframe thead tr:only-child th {\n",
       "        text-align: right;\n",
       "    }\n",
       "\n",
       "    .dataframe thead th {\n",
       "        text-align: left;\n",
       "    }\n",
       "\n",
       "    .dataframe tbody tr th {\n",
       "        vertical-align: top;\n",
       "    }\n",
       "</style>\n",
       "<table border=\"1\" class=\"dataframe\">\n",
       "  <thead>\n",
       "    <tr style=\"text-align: right;\">\n",
       "      <th></th>\n",
       "      <th>0</th>\n",
       "    </tr>\n",
       "  </thead>\n",
       "  <tbody>\n",
       "    <tr>\n",
       "      <th>0</th>\n",
       "      <td>event_type</td>\n",
       "    </tr>\n",
       "    <tr>\n",
       "      <th>1</th>\n",
       "      <td>0\\tAnnouncement</td>\n",
       "    </tr>\n",
       "    <tr>\n",
       "      <th>2</th>\n",
       "      <td>1\\tAttempt</td>\n",
       "    </tr>\n",
       "    <tr>\n",
       "      <th>3</th>\n",
       "      <td>2\\tCorner</td>\n",
       "    </tr>\n",
       "    <tr>\n",
       "      <th>4</th>\n",
       "      <td>3\\tFoul</td>\n",
       "    </tr>\n",
       "  </tbody>\n",
       "</table>\n",
       "</div>"
      ],
      "text/plain": [
       "                 0\n",
       "0       event_type\n",
       "1  0\\tAnnouncement\n",
       "2       1\\tAttempt\n",
       "3        2\\tCorner\n",
       "4          3\\tFoul"
      ]
     },
     "execution_count": 217,
     "metadata": {},
     "output_type": "execute_result"
    }
   ],
   "source": [
    "df3.head()"
   ]
  },
  {
   "cell_type": "code",
   "execution_count": 218,
   "metadata": {},
   "outputs": [
    {
     "data": {
      "text/plain": [
       "(75, 1)"
      ]
     },
     "execution_count": 218,
     "metadata": {},
     "output_type": "execute_result"
    }
   ],
   "source": [
    "df3.shape"
   ]
  },
  {
   "cell_type": "markdown",
   "metadata": {},
   "source": [
    "We can see that we need to split the file into multiple dictionaries so that we can sub them in for the numbers in some columns in the other data frames"
   ]
  },
  {
   "cell_type": "code",
   "execution_count": 220,
   "metadata": {
    "collapsed": true
   },
   "outputs": [],
   "source": [
    "df3[['id','name']] = df3.loc[:,0].str.split('\\t',expand=True)\n",
    "df3.drop(df3.columns[0], axis=1,inplace = True)"
   ]
  },
  {
   "cell_type": "code",
   "execution_count": 248,
   "metadata": {
    "collapsed": true
   },
   "outputs": [],
   "source": [
    "df3.id = pd.to_numeric(df3.id, errors='coerce')"
   ]
  },
  {
   "cell_type": "code",
   "execution_count": 299,
   "metadata": {
    "collapsed": true
   },
   "outputs": [],
   "source": [
    "et1 = df3[1:13]\n",
    "et2 = df3[14:18]\n",
    "side = df3[19:21]\n",
    "shot_place = df3[22:35]\n",
    "shot_outcome = df3[36:40]\n",
    "location = df3[41:60]\n",
    "bodypart =df3[61:64]\n",
    "assist_method = df3[65:70]\n",
    "situation = df3[71:75]"
   ]
  },
  {
   "cell_type": "code",
   "execution_count": 301,
   "metadata": {
    "collapsed": true
   },
   "outputs": [],
   "source": [
    "et1_dict  = list(et1.set_index('id').to_dict().values()).pop()\n",
    "et2_dict  = list(et2.set_index('id').to_dict().values()).pop()\n",
    "side_dict  = list(side.set_index('id').to_dict().values()).pop()\n",
    "shot_place_dict  = list(shot_place.set_index('id').to_dict().values()).pop()\n",
    "shot_outcome_dict  = list(shot_outcome.set_index('id').to_dict().values()).pop()\n",
    "location_dict  = list(location.set_index('id').to_dict().values()).pop()\n",
    "bodypart_dict  = list(bodypart.set_index('id').to_dict().values()).pop()\n",
    "assist_method_dict  = list(assist_method.set_index('id').to_dict().values()).pop()\n",
    "situation_dict  = list(situation.set_index('id').to_dict().values()).pop()"
   ]
  },
  {
   "cell_type": "code",
   "execution_count": 305,
   "metadata": {
    "collapsed": true
   },
   "outputs": [],
   "source": [
    "events['event_type'] = events['event_type'].map(et1_dict)\n",
    "events['event_type2'] = events['event_type2'].map(et2_dict)\n",
    "events['side'] = events['side'].map(side_dict)\n",
    "events['shot_place'] = events['shot_place'].map(shot_place_dict)\n",
    "events['shot_outcome'] = events['shot_outcome'].map(shot_outcome_dict)\n",
    "events['location'] = events['location'].map(location_dict)\n",
    "events['bodypart'] = events['bodypart'].map(bodypart_dict)\n",
    "events['assist_method'] = events['assist_method'].map(assist_method_dict)\n",
    "events['situation'] = events['situation'].map(situation_dict)"
   ]
  },
  {
   "cell_type": "code",
   "execution_count": 306,
   "metadata": {},
   "outputs": [
    {
     "data": {
      "text/html": [
       "<div>\n",
       "<style>\n",
       "    .dataframe thead tr:only-child th {\n",
       "        text-align: right;\n",
       "    }\n",
       "\n",
       "    .dataframe thead th {\n",
       "        text-align: left;\n",
       "    }\n",
       "\n",
       "    .dataframe tbody tr th {\n",
       "        vertical-align: top;\n",
       "    }\n",
       "</style>\n",
       "<table border=\"1\" class=\"dataframe\">\n",
       "  <thead>\n",
       "    <tr style=\"text-align: right;\">\n",
       "      <th></th>\n",
       "      <th>id_odsp</th>\n",
       "      <th>id_event</th>\n",
       "      <th>sort_order</th>\n",
       "      <th>time</th>\n",
       "      <th>text</th>\n",
       "      <th>event_type</th>\n",
       "      <th>event_type2</th>\n",
       "      <th>side</th>\n",
       "      <th>event_team</th>\n",
       "      <th>opponent</th>\n",
       "      <th>...</th>\n",
       "      <th>player_in</th>\n",
       "      <th>player_out</th>\n",
       "      <th>shot_place</th>\n",
       "      <th>shot_outcome</th>\n",
       "      <th>is_goal</th>\n",
       "      <th>location</th>\n",
       "      <th>bodypart</th>\n",
       "      <th>assist_method</th>\n",
       "      <th>situation</th>\n",
       "      <th>fast_break</th>\n",
       "    </tr>\n",
       "  </thead>\n",
       "  <tbody>\n",
       "    <tr>\n",
       "      <th>0</th>\n",
       "      <td>UFot0hit/</td>\n",
       "      <td>UFot0hit1</td>\n",
       "      <td>1</td>\n",
       "      <td>2</td>\n",
       "      <td>Attempt missed. Mladen Petric (Hamburg) left f...</td>\n",
       "      <td>Attempt</td>\n",
       "      <td>Key Pass</td>\n",
       "      <td>Away</td>\n",
       "      <td>Hamburg SV</td>\n",
       "      <td>Borussia Dortmund</td>\n",
       "      <td>...</td>\n",
       "      <td>NaN</td>\n",
       "      <td>NaN</td>\n",
       "      <td>High and wide</td>\n",
       "      <td>Off target</td>\n",
       "      <td>0</td>\n",
       "      <td>Left side of the box</td>\n",
       "      <td>left foot</td>\n",
       "      <td>Pass</td>\n",
       "      <td>Open play</td>\n",
       "      <td>0</td>\n",
       "    </tr>\n",
       "    <tr>\n",
       "      <th>1</th>\n",
       "      <td>UFot0hit/</td>\n",
       "      <td>UFot0hit2</td>\n",
       "      <td>2</td>\n",
       "      <td>4</td>\n",
       "      <td>Corner,  Borussia Dortmund. Conceded by Dennis...</td>\n",
       "      <td>Corner</td>\n",
       "      <td>NaN</td>\n",
       "      <td>Home</td>\n",
       "      <td>Borussia Dortmund</td>\n",
       "      <td>Hamburg SV</td>\n",
       "      <td>...</td>\n",
       "      <td>NaN</td>\n",
       "      <td>NaN</td>\n",
       "      <td>NaN</td>\n",
       "      <td>NaN</td>\n",
       "      <td>0</td>\n",
       "      <td>NaN</td>\n",
       "      <td>NaN</td>\n",
       "      <td>None</td>\n",
       "      <td>NaN</td>\n",
       "      <td>0</td>\n",
       "    </tr>\n",
       "    <tr>\n",
       "      <th>2</th>\n",
       "      <td>UFot0hit/</td>\n",
       "      <td>UFot0hit3</td>\n",
       "      <td>3</td>\n",
       "      <td>4</td>\n",
       "      <td>Corner,  Borussia Dortmund. Conceded by Heiko ...</td>\n",
       "      <td>Corner</td>\n",
       "      <td>NaN</td>\n",
       "      <td>Home</td>\n",
       "      <td>Borussia Dortmund</td>\n",
       "      <td>Hamburg SV</td>\n",
       "      <td>...</td>\n",
       "      <td>NaN</td>\n",
       "      <td>NaN</td>\n",
       "      <td>NaN</td>\n",
       "      <td>NaN</td>\n",
       "      <td>0</td>\n",
       "      <td>NaN</td>\n",
       "      <td>NaN</td>\n",
       "      <td>None</td>\n",
       "      <td>NaN</td>\n",
       "      <td>0</td>\n",
       "    </tr>\n",
       "    <tr>\n",
       "      <th>3</th>\n",
       "      <td>UFot0hit/</td>\n",
       "      <td>UFot0hit4</td>\n",
       "      <td>4</td>\n",
       "      <td>7</td>\n",
       "      <td>Foul by Sven Bender (Borussia Dortmund).</td>\n",
       "      <td>Foul</td>\n",
       "      <td>NaN</td>\n",
       "      <td>Home</td>\n",
       "      <td>Borussia Dortmund</td>\n",
       "      <td>Hamburg SV</td>\n",
       "      <td>...</td>\n",
       "      <td>NaN</td>\n",
       "      <td>NaN</td>\n",
       "      <td>NaN</td>\n",
       "      <td>NaN</td>\n",
       "      <td>0</td>\n",
       "      <td>NaN</td>\n",
       "      <td>NaN</td>\n",
       "      <td>None</td>\n",
       "      <td>NaN</td>\n",
       "      <td>0</td>\n",
       "    </tr>\n",
       "    <tr>\n",
       "      <th>4</th>\n",
       "      <td>UFot0hit/</td>\n",
       "      <td>UFot0hit5</td>\n",
       "      <td>5</td>\n",
       "      <td>7</td>\n",
       "      <td>Gokhan Tore (Hamburg) wins a free kick in the ...</td>\n",
       "      <td>Free kick won</td>\n",
       "      <td>NaN</td>\n",
       "      <td>Away</td>\n",
       "      <td>Hamburg SV</td>\n",
       "      <td>Borussia Dortmund</td>\n",
       "      <td>...</td>\n",
       "      <td>NaN</td>\n",
       "      <td>NaN</td>\n",
       "      <td>NaN</td>\n",
       "      <td>NaN</td>\n",
       "      <td>0</td>\n",
       "      <td>Defensive half</td>\n",
       "      <td>NaN</td>\n",
       "      <td>None</td>\n",
       "      <td>NaN</td>\n",
       "      <td>0</td>\n",
       "    </tr>\n",
       "  </tbody>\n",
       "</table>\n",
       "<p>5 rows × 22 columns</p>\n",
       "</div>"
      ],
      "text/plain": [
       "     id_odsp   id_event  sort_order  time  \\\n",
       "0  UFot0hit/  UFot0hit1           1     2   \n",
       "1  UFot0hit/  UFot0hit2           2     4   \n",
       "2  UFot0hit/  UFot0hit3           3     4   \n",
       "3  UFot0hit/  UFot0hit4           4     7   \n",
       "4  UFot0hit/  UFot0hit5           5     7   \n",
       "\n",
       "                                                text     event_type  \\\n",
       "0  Attempt missed. Mladen Petric (Hamburg) left f...        Attempt   \n",
       "1  Corner,  Borussia Dortmund. Conceded by Dennis...         Corner   \n",
       "2  Corner,  Borussia Dortmund. Conceded by Heiko ...         Corner   \n",
       "3           Foul by Sven Bender (Borussia Dortmund).           Foul   \n",
       "4  Gokhan Tore (Hamburg) wins a free kick in the ...  Free kick won   \n",
       "\n",
       "  event_type2  side         event_team           opponent    ...      \\\n",
       "0    Key Pass  Away         Hamburg SV  Borussia Dortmund    ...       \n",
       "1         NaN  Home  Borussia Dortmund         Hamburg SV    ...       \n",
       "2         NaN  Home  Borussia Dortmund         Hamburg SV    ...       \n",
       "3         NaN  Home  Borussia Dortmund         Hamburg SV    ...       \n",
       "4         NaN  Away         Hamburg SV  Borussia Dortmund    ...       \n",
       "\n",
       "  player_in player_out     shot_place shot_outcome is_goal  \\\n",
       "0       NaN        NaN  High and wide   Off target       0   \n",
       "1       NaN        NaN            NaN          NaN       0   \n",
       "2       NaN        NaN            NaN          NaN       0   \n",
       "3       NaN        NaN            NaN          NaN       0   \n",
       "4       NaN        NaN            NaN          NaN       0   \n",
       "\n",
       "               location   bodypart assist_method  situation fast_break  \n",
       "0  Left side of the box  left foot          Pass  Open play          0  \n",
       "1                   NaN        NaN          None        NaN          0  \n",
       "2                   NaN        NaN          None        NaN          0  \n",
       "3                   NaN        NaN          None        NaN          0  \n",
       "4        Defensive half        NaN          None        NaN          0  \n",
       "\n",
       "[5 rows x 22 columns]"
      ]
     },
     "execution_count": 306,
     "metadata": {},
     "output_type": "execute_result"
    }
   ],
   "source": [
    "events.head()"
   ]
  },
  {
   "cell_type": "code",
   "execution_count": 353,
   "metadata": {
    "collapsed": true
   },
   "outputs": [],
   "source": [
    "goals=events[events[\"is_goal\"]==1]"
   ]
  },
  {
   "cell_type": "code",
   "execution_count": 308,
   "metadata": {},
   "outputs": [
    {
     "data": {
      "text/plain": [
       "<matplotlib.text.Text at 0x1449f3b50>"
      ]
     },
     "execution_count": 308,
     "metadata": {},
     "output_type": "execute_result"
    },
    {
     "data": {
      "image/png": "[encoded data removed]",
      "text/plain": [
       "<matplotlib.figure.Figure at 0x15e264110>"
      ]
     },
     "metadata": {},
     "output_type": "display_data"
    }
   ],
   "source": [
    "fig=plt.figure(figsize=(8,6))\n",
    "plt.hist(goals.time,width=1,bins=100,color=\"teal\")   \n",
    "plt.xlabel(\"Minutes\")\n",
    "plt.ylabel(\"Number of goals\")\n",
    "plt.title(\"Number of goals against Time during match\")"
   ]
  },
  {
   "cell_type": "code",
   "execution_count": 310,
   "metadata": {},
   "outputs": [
    {
     "data": {
      "text/plain": [
       "<matplotlib.text.Text at 0x16615a690>"
      ]
     },
     "execution_count": 310,
     "metadata": {},
     "output_type": "execute_result"
    },
    {
     "data": {
      "image/png": "[encoded data removed]",
      "text/plain": [
       "<matplotlib.figure.Figure at 0x164d7a310>"
      ]
     },
     "metadata": {},
     "output_type": "display_data"
    }
   ],
   "source": [
    "redcards=events[events[\"event_type\"]==\"Red card\"]\n",
    "fig=plt.figure(figsize=(8,6))\n",
    "plt.hist(redcards.time,width=1,bins=100,color=\"red\")   \n",
    "plt.xlabel(\"Minutes\")\n",
    "plt.ylabel(\"Number of goals\")\n",
    "plt.title(\"Number of goals against Time during match\")"
   ]
  },
  {
   "cell_type": "code",
   "execution_count": 311,
   "metadata": {},
   "outputs": [
    {
     "data": {
      "text/html": [
       "<div>\n",
       "<style>\n",
       "    .dataframe thead tr:only-child th {\n",
       "        text-align: right;\n",
       "    }\n",
       "\n",
       "    .dataframe thead th {\n",
       "        text-align: left;\n",
       "    }\n",
       "\n",
       "    .dataframe tbody tr th {\n",
       "        vertical-align: top;\n",
       "    }\n",
       "</style>\n",
       "<table border=\"1\" class=\"dataframe\">\n",
       "  <thead>\n",
       "    <tr style=\"text-align: right;\">\n",
       "      <th></th>\n",
       "      <th>id</th>\n",
       "      <th>name</th>\n",
       "    </tr>\n",
       "  </thead>\n",
       "  <tbody>\n",
       "    <tr>\n",
       "      <th>1</th>\n",
       "      <td>0.0</td>\n",
       "      <td>Announcement</td>\n",
       "    </tr>\n",
       "    <tr>\n",
       "      <th>2</th>\n",
       "      <td>1.0</td>\n",
       "      <td>Attempt</td>\n",
       "    </tr>\n",
       "    <tr>\n",
       "      <th>3</th>\n",
       "      <td>2.0</td>\n",
       "      <td>Corner</td>\n",
       "    </tr>\n",
       "    <tr>\n",
       "      <th>4</th>\n",
       "      <td>3.0</td>\n",
       "      <td>Foul</td>\n",
       "    </tr>\n",
       "    <tr>\n",
       "      <th>5</th>\n",
       "      <td>4.0</td>\n",
       "      <td>Yellow card</td>\n",
       "    </tr>\n",
       "    <tr>\n",
       "      <th>6</th>\n",
       "      <td>5.0</td>\n",
       "      <td>Second yellow card</td>\n",
       "    </tr>\n",
       "    <tr>\n",
       "      <th>7</th>\n",
       "      <td>6.0</td>\n",
       "      <td>Red card</td>\n",
       "    </tr>\n",
       "    <tr>\n",
       "      <th>8</th>\n",
       "      <td>7.0</td>\n",
       "      <td>Substitution</td>\n",
       "    </tr>\n",
       "    <tr>\n",
       "      <th>9</th>\n",
       "      <td>8.0</td>\n",
       "      <td>Free kick won</td>\n",
       "    </tr>\n",
       "    <tr>\n",
       "      <th>10</th>\n",
       "      <td>9.0</td>\n",
       "      <td>Offside</td>\n",
       "    </tr>\n",
       "    <tr>\n",
       "      <th>11</th>\n",
       "      <td>10.0</td>\n",
       "      <td>Hand ball</td>\n",
       "    </tr>\n",
       "    <tr>\n",
       "      <th>12</th>\n",
       "      <td>11.0</td>\n",
       "      <td>Penalty conceded</td>\n",
       "    </tr>\n",
       "  </tbody>\n",
       "</table>\n",
       "</div>"
      ],
      "text/plain": [
       "      id                name\n",
       "1    0.0        Announcement\n",
       "2    1.0             Attempt\n",
       "3    2.0              Corner\n",
       "4    3.0                Foul\n",
       "5    4.0         Yellow card\n",
       "6    5.0  Second yellow card\n",
       "7    6.0            Red card\n",
       "8    7.0        Substitution\n",
       "9    8.0       Free kick won\n",
       "10   9.0             Offside\n",
       "11  10.0           Hand ball\n",
       "12  11.0    Penalty conceded"
      ]
     },
     "execution_count": 311,
     "metadata": {},
     "output_type": "execute_result"
    }
   ],
   "source": [
    "et1"
   ]
  },
  {
   "cell_type": "code",
   "execution_count": 312,
   "metadata": {
    "collapsed": true
   },
   "outputs": [],
   "source": [
    "yellowcard=events[events[\"event_type\"]=='Yellow card']\n",
    "yellowcard2=events[events[\"event_type\"]=='Second yellow card']\n",
    "redcards=events[events[\"event_type\"]=='Red card']"
   ]
  },
  {
   "cell_type": "code",
   "execution_count": 313,
   "metadata": {},
   "outputs": [
    {
     "data": {
      "text/plain": [
       "<matplotlib.text.Text at 0x14de4dd90>"
      ]
     },
     "execution_count": 313,
     "metadata": {},
     "output_type": "execute_result"
    },
    {
     "data": {
      "image/png": "[encoded data removed]",
      "text/plain": [
       "<matplotlib.figure.Figure at 0x165667f10>"
      ]
     },
     "metadata": {},
     "output_type": "display_data"
    }
   ],
   "source": [
    "fig=plt.figure(figsize=(8,6))\n",
    "plt.hist(yellowcard.time,width=1,bins=100,color=\"yellow\")  \n",
    "plt.hist(yellowcard2.time,width=1,bins=100,color=\"green\") \n",
    "plt.hist(redcards.time,width=1,bins=100,color=\"red\") \n",
    "plt.xlabel(\"Minutes\")\n",
    "plt.ylabel(\"Carded\")\n",
    "plt.title(\"Cards at given point\")"
   ]
  },
  {
   "cell_type": "code",
   "execution_count": 314,
   "metadata": {},
   "outputs": [
    {
     "data": {
      "text/plain": [
       "<matplotlib.text.Text at 0x161346450>"
      ]
     },
     "execution_count": 314,
     "metadata": {},
     "output_type": "execute_result"
    },
    {
     "data": {
      "image/png": "[encoded data removed]",
      "text/plain": [
       "<matplotlib.figure.Figure at 0x163984090>"
      ]
     },
     "metadata": {},
     "output_type": "display_data"
    }
   ],
   "source": [
    "fig=plt.figure(figsize=(8,6))  \n",
    "plt.hist(redcards.time,width=1,bins=100,color=\"red\") \n",
    "plt.hist(yellowcard2.time,width=1,bins=100,color=\"yellow\") \n",
    "plt.xlabel(\"Minutes\")\n",
    "plt.ylabel(\"Carded\")\n",
    "plt.title(\"2nd yellow vs Red\")"
   ]
  },
  {
   "cell_type": "code",
   "execution_count": 315,
   "metadata": {},
   "outputs": [
    {
     "data": {
      "text/plain": [
       "right foot    13451\n",
       "left foot      6758\n",
       "head           4236\n",
       "Name: bodypart, dtype: int64"
      ]
     },
     "execution_count": 315,
     "metadata": {},
     "output_type": "execute_result"
    }
   ],
   "source": [
    "goals.bodypart.value_counts()"
   ]
  },
  {
   "cell_type": "code",
   "execution_count": null,
   "metadata": {
    "collapsed": true
   },
   "outputs": [],
   "source": [
    "fig=plt.figure(figsize=(8,6))  \n",
    "plt.hist(events.bodypart,width=1,bins=100,color=\"red\") \n",
    "plt.hist(yellowcard2.time,width=1,bins=100,color=\"yellow\") \n",
    "plt.xlabel(\"Minutes\")\n",
    "plt.ylabel(\"Carded\")\n",
    "plt.title(\"2nd yellow vs Red\")"
   ]
  },
  {
   "cell_type": "code",
   "execution_count": null,
   "metadata": {
    "collapsed": true
   },
   "outputs": [],
   "source": [
    "# Data to plot\n",
    "labels = 'Python', 'C++', 'Ruby', 'Java'\n",
    "sizes = [215, 130, 245, 210]\n",
    "colors = ['gold', 'yellowgreen', 'lightcoral', 'lightskyblue']\n",
    "explode = (0.1, 0, 0, 0)  # explode 1st slice"
   ]
  },
  {
   "cell_type": "code",
   "execution_count": 355,
   "metadata": {},
   "outputs": [
    {
     "data": {
      "text/plain": [
       "<matplotlib.text.Text at 0x12a4f46d0>"
      ]
     },
     "execution_count": 355,
     "metadata": {},
     "output_type": "execute_result"
    },
    {
     "data": {
      "image/png": "[encoded data removed]",
      "text/plain": [
       "<matplotlib.figure.Figure at 0x15e1443d0>"
      ]
     },
     "metadata": {},
     "output_type": "display_data"
    }
   ],
   "source": [
    "goals.bodypart.value_counts().plot(kind='pie')\n",
    "plt.axis('equal')\n",
    "plt.title('Bodypart used to score goal')"
   ]
  },
  {
   "cell_type": "code",
   "execution_count": 436,
   "metadata": {},
   "outputs": [
    {
     "data": {
      "text/plain": [
       "<matplotlib.text.Text at 0x16bd55fd0>"
      ]
     },
     "execution_count": 436,
     "metadata": {},
     "output_type": "execute_result"
    },
    {
     "data": {
      "image/png": "[encoded data removed]",
      "text/plain": [
       "<matplotlib.figure.Figure at 0x13eb3ea50>"
      ]
     },
     "metadata": {},
     "output_type": "display_data"
    }
   ],
   "source": [
    "goals.situation.value_counts().plot(kind='pie')\n",
    "plt.axis('equal')\n",
    "plt.title('Event leading to goal')"
   ]
  },
  {
   "cell_type": "code",
   "execution_count": 372,
   "metadata": {},
   "outputs": [
    {
     "data": {
      "text/plain": [
       "<matplotlib.text.Text at 0x1467cf510>"
      ]
     },
     "execution_count": 372,
     "metadata": {},
     "output_type": "execute_result"
    },
    {
     "data": {
      "image/png": "[encoded data removed]",
      "text/plain": [
       "<matplotlib.figure.Figure at 0x165ed0850>"
      ]
     },
     "metadata": {},
     "output_type": "display_data"
    }
   ],
   "source": [
    "events.shot_place.value_counts().plot(kind='bar')\n",
    "plt.title('Event leading to goal')"
   ]
  },
  {
   "cell_type": "code",
   "execution_count": 407,
   "metadata": {},
   "outputs": [
    {
     "data": {
      "text/plain": [
       "Barcelona              586\n",
       "Real Madrid            573\n",
       "Bayern Munich          453\n",
       "Paris Saint-Germain    447\n",
       "Napoli                 403\n",
       "Juventus               401\n",
       "Borussia Dortmund      392\n",
       "AS Roma                373\n",
       "Lyon                   355\n",
       "Atletico Madrid        347\n",
       "Name: event_team, dtype: int64"
      ]
     },
     "execution_count": 407,
     "metadata": {},
     "output_type": "execute_result"
    }
   ],
   "source": [
    "top_scoring_teams"
   ]
  },
  {
   "cell_type": "code",
   "execution_count": 440,
   "metadata": {},
   "outputs": [
    {
     "data": {
      "image/png": "[encoded data removed]",
      "text/plain": [
       "<matplotlib.figure.Figure at 0x14c79ac50>"
      ]
     },
     "metadata": {},
     "output_type": "display_data"
    }
   ],
   "source": [
    "plt.rcdefaults()\n",
    "fig, ax = plt.subplots()\n",
    "\n",
    "top_scoring_teams = goals.event_team.value_counts().head(10)\n",
    "values = top_scoring_teams.keys().tolist()\n",
    "counts = top_scoring_teams.tolist()\n",
    "y_pos = np.arange(len(values))\n",
    "\n",
    " \n",
    "ax.barh(y_pos, counts, align='center', alpha=0.5)\n",
    "ax.invert_yaxis()\n",
    "\n",
    "plt.yticks(y_pos, values)\n",
    "plt.xlabel('Goals')\n",
    "plt.title('Top scoring clubs')\n",
    " \n",
    "plt.show()"
   ]
  },
  {
   "cell_type": "code",
   "execution_count": null,
   "metadata": {
    "collapsed": true
   },
   "outputs": [],
   "source": [
    "import numpy as np\n",
    "import matplotlib.pyplot as plt\n",
    " \n",
    "# data to plot\n",
    "n_groups = 4\n",
    "means_frank = (90, 55, 40, 65)\n",
    "events.shoo\n",
    "\n",
    "means_guido = (85, 62, 54, 20)\n",
    " \n",
    "# create plot\n",
    "fig, ax = plt.subplots()\n",
    "index = np.arange(n_groups)\n",
    "bar_width = 0.35\n",
    "opacity = 0.8\n",
    " \n",
    "rects1 = plt.bar(index, means_frank, bar_width,\n",
    "                 alpha=opacity,\n",
    "                 color='b',\n",
    "                 label='Frank')\n",
    " \n",
    "rects2 = plt.bar(index + bar_width, means_guido, bar_width,\n",
    "                 alpha=opacity,\n",
    "                 color='g',\n",
    "                 label='Guido')\n",
    " \n",
    "plt.xlabel('Person')\n",
    "plt.ylabel('Scores')\n",
    "plt.title('Scores by person')\n",
    "plt.xticks(index + bar_width, ('A', 'B', 'C', 'D'))\n",
    "plt.legend()\n",
    " \n",
    "plt.tight_layout()\n",
    "plt.show()"
   ]
  },
  {
   "cell_type": "code",
   "execution_count": 427,
   "metadata": {},
   "outputs": [
    {
     "data": {
      "text/plain": [
       "Off target     92827\n",
       "On target      78014\n",
       "Blocked        54082\n",
       "Hit the bar     3575\n",
       "Name: shot_outcome, dtype: int64"
      ]
     },
     "execution_count": 427,
     "metadata": {},
     "output_type": "execute_result"
    }
   ],
   "source": [
    "events.shot_outcome.value_counts()"
   ]
  },
  {
   "cell_type": "code",
   "execution_count": 430,
   "metadata": {},
   "outputs": [
    {
     "data": {
      "text/html": [
       "<div>\n",
       "<style>\n",
       "    .dataframe thead tr:only-child th {\n",
       "        text-align: right;\n",
       "    }\n",
       "\n",
       "    .dataframe thead th {\n",
       "        text-align: left;\n",
       "    }\n",
       "\n",
       "    .dataframe tbody tr th {\n",
       "        vertical-align: top;\n",
       "    }\n",
       "</style>\n",
       "<table border=\"1\" class=\"dataframe\">\n",
       "  <thead>\n",
       "    <tr style=\"text-align: right;\">\n",
       "      <th>is_goal</th>\n",
       "      <th>1.0</th>\n",
       "    </tr>\n",
       "    <tr>\n",
       "      <th>shot_place</th>\n",
       "      <th></th>\n",
       "    </tr>\n",
       "  </thead>\n",
       "  <tbody>\n",
       "    <tr>\n",
       "      <th>Bottom left corner</th>\n",
       "      <td>7212</td>\n",
       "    </tr>\n",
       "    <tr>\n",
       "      <th>Bottom right corner</th>\n",
       "      <td>6932</td>\n",
       "    </tr>\n",
       "    <tr>\n",
       "      <th>Centre of the goal</th>\n",
       "      <td>4446</td>\n",
       "    </tr>\n",
       "    <tr>\n",
       "      <th>Top left corner</th>\n",
       "      <td>2023</td>\n",
       "    </tr>\n",
       "    <tr>\n",
       "      <th>Top right corner</th>\n",
       "      <td>2157</td>\n",
       "    </tr>\n",
       "  </tbody>\n",
       "</table>\n",
       "</div>"
      ],
      "text/plain": [
       "is_goal               1.0\n",
       "shot_place               \n",
       "Bottom left corner   7212\n",
       "Bottom right corner  6932\n",
       "Centre of the goal   4446\n",
       "Top left corner      2023\n",
       "Top right corner     2157"
      ]
     },
     "execution_count": 430,
     "metadata": {},
     "output_type": "execute_result"
    }
   ],
   "source": [
    "pd.crosstab(events.shot_place,goals.is_goal)"
   ]
  },
  {
   "cell_type": "code",
   "execution_count": 439,
   "metadata": {},
   "outputs": [
    {
     "data": {
      "text/plain": [
       "<matplotlib.text.Text at 0x15f0d7350>"
      ]
     },
     "execution_count": 439,
     "metadata": {},
     "output_type": "execute_result"
    },
    {
     "data": {
      "image/png": "[encoded data removed]",
      "text/plain": [
       "<matplotlib.figure.Figure at 0x1595548d0>"
      ]
     },
     "metadata": {},
     "output_type": "display_data"
    }
   ],
   "source": [
    "\n",
    "goals.shot_place.value_counts().plot('pie')\n",
    "\n",
    "plt.axis('equal')\n",
    "plt.title('Goals by shot type')"
   ]
  },
  {
   "cell_type": "code",
   "execution_count": 461,
   "metadata": {},
   "outputs": [
    {
     "data": {
      "text/html": [
       "<div>\n",
       "<style>\n",
       "    .dataframe thead tr:only-child th {\n",
       "        text-align: right;\n",
       "    }\n",
       "\n",
       "    .dataframe thead th {\n",
       "        text-align: left;\n",
       "    }\n",
       "\n",
       "    .dataframe tbody tr th {\n",
       "        vertical-align: top;\n",
       "    }\n",
       "</style>\n",
       "<table border=\"1\" class=\"dataframe\">\n",
       "  <thead>\n",
       "    <tr style=\"text-align: right;\">\n",
       "      <th></th>\n",
       "      <th>counts</th>\n",
       "      <th>per</th>\n",
       "    </tr>\n",
       "  </thead>\n",
       "  <tbody>\n",
       "    <tr>\n",
       "      <th>Off target</th>\n",
       "      <td>92827</td>\n",
       "      <td>40.6%</td>\n",
       "    </tr>\n",
       "    <tr>\n",
       "      <th>On target</th>\n",
       "      <td>78014</td>\n",
       "      <td>34.1%</td>\n",
       "    </tr>\n",
       "    <tr>\n",
       "      <th>Blocked</th>\n",
       "      <td>54082</td>\n",
       "      <td>23.7%</td>\n",
       "    </tr>\n",
       "    <tr>\n",
       "      <th>Hit the bar</th>\n",
       "      <td>3575</td>\n",
       "      <td>1.6%</td>\n",
       "    </tr>\n",
       "  </tbody>\n",
       "</table>\n",
       "</div>"
      ],
      "text/plain": [
       "             counts    per\n",
       "Off target    92827  40.6%\n",
       "On target     78014  34.1%\n",
       "Blocked       54082  23.7%\n",
       "Hit the bar    3575   1.6%"
      ]
     },
     "execution_count": 461,
     "metadata": {},
     "output_type": "execute_result"
    }
   ],
   "source": [
    "counts = events.shot_outcome.value_counts()\n",
    "percent = events.shot_outcome.value_counts(normalize=True) \\\n",
    "           .mul(100).round(1).astype(str) + '%'\n",
    "pd.DataFrame({'counts': counts, 'per': percent})"
   ]
  },
  {
   "cell_type": "code",
   "execution_count": 474,
   "metadata": {},
   "outputs": [
    {
     "data": {
      "text/plain": [
       "0    69.472146\n",
       "1    30.527854\n",
       "Name: is_goal, dtype: float64"
      ]
     },
     "execution_count": 474,
     "metadata": {},
     "output_type": "execute_result"
    }
   ],
   "source": [
    "events[(events['shot_outcome'] == 'On target')].is_goal.value_counts(normalize= True) * 100"
   ]
  },
  {
   "cell_type": "markdown",
   "metadata": {},
   "source": [
    "Only 34.1% of the shots are on target and of those only ~30.53% are goals. Any shot is on average a goal only a goal roughly 10% of the time. (this is only true for the given data which is probably only from top leagues)"
   ]
  },
  {
   "cell_type": "code",
   "execution_count": null,
   "metadata": {
    "collapsed": true
   },
   "outputs": [],
   "source": []
  },
  {
   "cell_type": "code",
   "execution_count": null,
   "metadata": {
    "collapsed": true
   },
   "outputs": [],
   "source": []
  }
 ],
 "metadata": {
  "kernelspec": {
   "display_name": "Python 2",
   "language": "python",
   "name": "python2"
  },
  "language_info": {
   "codemirror_mode": {
    "name": "ipython",
    "version": 2
   },
   "file_extension": ".py",
   "mimetype": "text/x-python",
   "name": "python",
   "nbconvert_exporter": "python",
   "pygments_lexer": "ipython2",
   "version": "2.7.13"
  }
 },
 "nbformat": 4,
 "nbformat_minor": 2
}
